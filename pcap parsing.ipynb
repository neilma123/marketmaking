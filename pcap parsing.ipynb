{
 "cells": [
  {
   "cell_type": "code",
   "execution_count": 2,
   "id": "60a5a7ed",
   "metadata": {},
   "outputs": [
    {
     "name": "stdout",
     "output_type": "stream",
     "text": [
      "Collecting pyshark\n",
      "  Downloading pyshark-0.6-py3-none-any.whl (41 kB)\n",
      "Requirement already satisfied: termcolor in c:\\users\\nmasc\\anaconda3\\lib\\site-packages (from pyshark) (1.1.0)\n",
      "Requirement already satisfied: appdirs in c:\\users\\nmasc\\anaconda3\\lib\\site-packages (from pyshark) (1.4.4)\n",
      "Requirement already satisfied: lxml in c:\\users\\nmasc\\anaconda3\\lib\\site-packages (from pyshark) (4.6.3)\n",
      "Requirement already satisfied: packaging in c:\\users\\nmasc\\anaconda3\\lib\\site-packages (from pyshark) (21.3)\n",
      "Requirement already satisfied: pyparsing!=3.0.5,>=2.0.2 in c:\\users\\nmasc\\anaconda3\\lib\\site-packages (from packaging->pyshark) (3.0.4)\n",
      "Installing collected packages: pyshark\n",
      "Successfully installed pyshark-0.6\n"
     ]
    }
   ],
   "source": [
    "!pip install pyshark\n",
    "\n",
    "# out_00000_20210719001654"
   ]
  },
  {
   "cell_type": "code",
   "execution_count": 5,
   "id": "998f1afe",
   "metadata": {},
   "outputs": [
    {
     "ename": "RuntimeError",
     "evalue": "Cannot run the event loop while another loop is running",
     "output_type": "error",
     "traceback": [
      "\u001b[1;31m---------------------------------------------------------------------------\u001b[0m",
      "\u001b[1;31mRuntimeError\u001b[0m                              Traceback (most recent call last)",
      "\u001b[1;32m~\\AppData\\Local\\Temp/ipykernel_6384/270376844.py\u001b[0m in \u001b[0;36m<module>\u001b[1;34m\u001b[0m\n\u001b[0;32m     15\u001b[0m \u001b[1;31m# Run the asynchronous function using asyncio's run method\u001b[0m\u001b[1;33m\u001b[0m\u001b[1;33m\u001b[0m\u001b[1;33m\u001b[0m\u001b[0m\n\u001b[0;32m     16\u001b[0m \u001b[0mpcap_file\u001b[0m \u001b[1;33m=\u001b[0m \u001b[1;34m'out_00000_20210719001654.pcap'\u001b[0m\u001b[1;33m\u001b[0m\u001b[1;33m\u001b[0m\u001b[0m\n\u001b[1;32m---> 17\u001b[1;33m \u001b[1;32mawait\u001b[0m \u001b[0mread_pcap_async\u001b[0m\u001b[1;33m(\u001b[0m\u001b[0mpcap_file\u001b[0m\u001b[1;33m)\u001b[0m\u001b[1;33m\u001b[0m\u001b[1;33m\u001b[0m\u001b[0m\n\u001b[0m",
      "\u001b[1;32m~\\AppData\\Local\\Temp/ipykernel_6384/270376844.py\u001b[0m in \u001b[0;36mread_pcap_async\u001b[1;34m(pcap_file)\u001b[0m\n\u001b[0;32m      7\u001b[0m \u001b[1;33m\u001b[0m\u001b[0m\n\u001b[0;32m      8\u001b[0m     \u001b[1;31m# Iterate through packets asynchronously\u001b[0m\u001b[1;33m\u001b[0m\u001b[1;33m\u001b[0m\u001b[1;33m\u001b[0m\u001b[0m\n\u001b[1;32m----> 9\u001b[1;33m     \u001b[1;32mfor\u001b[0m \u001b[0mpacket\u001b[0m \u001b[1;32min\u001b[0m \u001b[0mcap\u001b[0m\u001b[1;33m:\u001b[0m\u001b[1;33m\u001b[0m\u001b[1;33m\u001b[0m\u001b[0m\n\u001b[0m\u001b[0;32m     10\u001b[0m         \u001b[0mprint\u001b[0m\u001b[1;33m(\u001b[0m\u001b[0mpacket\u001b[0m\u001b[1;33m)\u001b[0m  \u001b[1;31m# You can access packet details here\u001b[0m\u001b[1;33m\u001b[0m\u001b[1;33m\u001b[0m\u001b[0m\n\u001b[0;32m     11\u001b[0m \u001b[1;33m\u001b[0m\u001b[0m\n",
      "\u001b[1;32m~\\anaconda3\\lib\\site-packages\\pyshark\\capture\\capture.py\u001b[0m in \u001b[0;36m_packets_from_tshark_sync\u001b[1;34m(self, packet_count, existing_process)\u001b[0m\n\u001b[0;32m    210\u001b[0m         \"\"\"\n\u001b[0;32m    211\u001b[0m         \u001b[1;31m# NOTE: This has code duplication with the async version, think about how to solve this\u001b[0m\u001b[1;33m\u001b[0m\u001b[1;33m\u001b[0m\u001b[1;33m\u001b[0m\u001b[0m\n\u001b[1;32m--> 212\u001b[1;33m         tshark_process = existing_process or self.eventloop.run_until_complete(\n\u001b[0m\u001b[0;32m    213\u001b[0m             self._get_tshark_process())\n\u001b[0;32m    214\u001b[0m         \u001b[0mparser\u001b[0m \u001b[1;33m=\u001b[0m \u001b[0mself\u001b[0m\u001b[1;33m.\u001b[0m\u001b[0m_setup_tshark_output_parser\u001b[0m\u001b[1;33m(\u001b[0m\u001b[1;33m)\u001b[0m\u001b[1;33m\u001b[0m\u001b[1;33m\u001b[0m\u001b[0m\n",
      "\u001b[1;32m~\\anaconda3\\lib\\asyncio\\base_events.py\u001b[0m in \u001b[0;36mrun_until_complete\u001b[1;34m(self, future)\u001b[0m\n\u001b[0;32m    590\u001b[0m         \"\"\"\n\u001b[0;32m    591\u001b[0m         \u001b[0mself\u001b[0m\u001b[1;33m.\u001b[0m\u001b[0m_check_closed\u001b[0m\u001b[1;33m(\u001b[0m\u001b[1;33m)\u001b[0m\u001b[1;33m\u001b[0m\u001b[1;33m\u001b[0m\u001b[0m\n\u001b[1;32m--> 592\u001b[1;33m         \u001b[0mself\u001b[0m\u001b[1;33m.\u001b[0m\u001b[0m_check_running\u001b[0m\u001b[1;33m(\u001b[0m\u001b[1;33m)\u001b[0m\u001b[1;33m\u001b[0m\u001b[1;33m\u001b[0m\u001b[0m\n\u001b[0m\u001b[0;32m    593\u001b[0m \u001b[1;33m\u001b[0m\u001b[0m\n\u001b[0;32m    594\u001b[0m         \u001b[0mnew_task\u001b[0m \u001b[1;33m=\u001b[0m \u001b[1;32mnot\u001b[0m \u001b[0mfutures\u001b[0m\u001b[1;33m.\u001b[0m\u001b[0misfuture\u001b[0m\u001b[1;33m(\u001b[0m\u001b[0mfuture\u001b[0m\u001b[1;33m)\u001b[0m\u001b[1;33m\u001b[0m\u001b[1;33m\u001b[0m\u001b[0m\n",
      "\u001b[1;32m~\\anaconda3\\lib\\asyncio\\base_events.py\u001b[0m in \u001b[0;36m_check_running\u001b[1;34m(self)\u001b[0m\n\u001b[0;32m    552\u001b[0m             \u001b[1;32mraise\u001b[0m \u001b[0mRuntimeError\u001b[0m\u001b[1;33m(\u001b[0m\u001b[1;34m'This event loop is already running'\u001b[0m\u001b[1;33m)\u001b[0m\u001b[1;33m\u001b[0m\u001b[1;33m\u001b[0m\u001b[0m\n\u001b[0;32m    553\u001b[0m         \u001b[1;32mif\u001b[0m \u001b[0mevents\u001b[0m\u001b[1;33m.\u001b[0m\u001b[0m_get_running_loop\u001b[0m\u001b[1;33m(\u001b[0m\u001b[1;33m)\u001b[0m \u001b[1;32mis\u001b[0m \u001b[1;32mnot\u001b[0m \u001b[1;32mNone\u001b[0m\u001b[1;33m:\u001b[0m\u001b[1;33m\u001b[0m\u001b[1;33m\u001b[0m\u001b[0m\n\u001b[1;32m--> 554\u001b[1;33m             raise RuntimeError(\n\u001b[0m\u001b[0;32m    555\u001b[0m                 'Cannot run the event loop while another loop is running')\n\u001b[0;32m    556\u001b[0m \u001b[1;33m\u001b[0m\u001b[0m\n",
      "\u001b[1;31mRuntimeError\u001b[0m: Cannot run the event loop while another loop is running"
     ]
    }
   ],
   "source": [
    "import pyshark\n",
    "import asyncio\n",
    "\n",
    "# Define an async function to capture packets\n",
    "async def read_pcap_async(pcap_file):\n",
    "    cap = pyshark.FileCapture(pcap_file)\n",
    "    \n",
    "    # Iterate through packets asynchronously\n",
    "    for packet in cap:\n",
    "        print(packet)  # You can access packet details here\n",
    "\n",
    "    # Close capture when done\n",
    "    await cap.close()\n",
    "\n",
    "# Run the asynchronous function using asyncio's run method\n",
    "pcap_file = 'out_00000_20210719001654.pcap'\n",
    "await read_pcap_async(pcap_file)\n"
   ]
  },
  {
   "cell_type": "code",
   "execution_count": 17,
   "id": "2157641c",
   "metadata": {},
   "outputs": [
    {
     "name": "stdout",
     "output_type": "stream",
     "text": [
      "Ether / IP / UDP 162.69.165.15:64273 > 224.0.101.16:11600 / Raw / Padding\n",
      "###[ Ethernet ]###\n",
      "  dst       = 01:00:5e:00:65:10\n",
      "  src       = c0:03:80:35:6f:20\n",
      "  type      = IPv4\n",
      "###[ IP ]###\n",
      "     version   = 4\n",
      "     ihl       = 5\n",
      "     tos       = 0x0\n",
      "     len       = 44\n",
      "     id        = 34885\n",
      "     flags     = DF\n",
      "     frag      = 0\n",
      "     ttl       = 28\n",
      "     proto     = udp\n",
      "     chksum    = 0x4a16\n",
      "     src       = 162.69.165.15\n",
      "     dst       = 224.0.101.16\n",
      "     \\options   \\\n",
      "###[ UDP ]###\n",
      "        sport     = 64273\n",
      "        dport     = 11600\n",
      "        len       = 24\n",
      "        chksum    = 0x6150\n",
      "###[ Raw ]###\n",
      "           load      = b'\\x10\\x00\\x01\\x00\\x01\\x00\\x00\\x00\\xb7\\xfc\\xf4`\\x90#\\x9b$'\n",
      "###[ Padding ]###\n",
      "              load      = b'\\x00\\x00'\n",
      "\n",
      "None\n",
      "Source IP: 162.69.165.15, Source Port: 64273\n",
      "Destination IP: 224.0.101.16, Destination Port: 11600\n",
      "Raw Data (Decimal): [16, 0, 1, 0, 1, 0, 0, 0, 183, 252, 244, 96, 144, 35, 155, 36]\n"
     ]
    }
   ],
   "source": [
    "from scapy.all import rdpcap, Raw\n",
    "from scapy.layers.inet import IP, UDP\n",
    "\n",
    "# Specify the path to your PCAP file\n",
    "pcap_file = 'onepacket.pcap'\n",
    "\n",
    "# Read the PCAP file\n",
    "packets = rdpcap(pcap_file)\n",
    "\n",
    "# Iterate through the packets and print details\n",
    "for packet in packets:\n",
    "    print(packet.summary())  # Print a summary of each packet\n",
    "\n",
    "    # Print detailed packet information\n",
    "    print(packet.show())\n",
    "\n",
    "    # If the packet contains a UDP layer, extract specific details\n",
    "    if UDP in packet:\n",
    "        # Access IP layer\n",
    "        ip_layer = packet[IP]\n",
    "        src_ip = ip_layer.src\n",
    "        dst_ip = ip_layer.dst\n",
    "        \n",
    "        # Access UDP layer\n",
    "        udp_layer = packet[UDP]\n",
    "        src_port = udp_layer.sport\n",
    "        dst_port = udp_layer.dport\n",
    "        \n",
    "        # Print source and destination details\n",
    "        print(f\"Source IP: {src_ip}, Source Port: {src_port}\")\n",
    "        print(f\"Destination IP: {dst_ip}, Destination Port: {dst_port}\")\n",
    "        \n",
    "        # If there's a Raw layer, convert the payload to decimal\n",
    "        if Raw in packet:\n",
    "            raw_data = packet[Raw].load  # Extract raw payload\n",
    "            decimal_values = [byte for byte in raw_data]  # Convert bytes to decimal\n",
    "            print(f\"Raw Data (Decimal): {decimal_values}\")\n"
   ]
  }
 ],
 "metadata": {
  "kernelspec": {
   "display_name": "Python 3 (ipykernel)",
   "language": "python",
   "name": "python3"
  },
  "language_info": {
   "codemirror_mode": {
    "name": "ipython",
    "version": 3
   },
   "file_extension": ".py",
   "mimetype": "text/x-python",
   "name": "python",
   "nbconvert_exporter": "python",
   "pygments_lexer": "ipython3",
   "version": "3.8.8"
  }
 },
 "nbformat": 4,
 "nbformat_minor": 5
}
